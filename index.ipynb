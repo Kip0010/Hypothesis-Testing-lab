{
 "cells": [
  {
   "cell_type": "markdown",
   "metadata": {},
   "source": [
    "# Hypothesis Testing - Cumulative Lab\n",
    "\n",
    "## Introduction\n",
    "\n",
    "In this cumulative lab, you will use pandas to clean up a dataset and perform some EDA, then perform statistical tests and interpret their results in order to answer some business questions.\n",
    "\n",
    "## Objectives\n",
    "\n",
    "You will be able to:\n",
    "\n",
    "* Practice using a data dictionary\n",
    "* Practice using pandas to prepare data for statistical analysis\n",
    "* Practice identifying an appropriate statistical test for a given question\n",
    "* Practice defining the null and alternative hypotheses\n",
    "* Practice executing statistical tests and interpreting their results"
   ]
  },
  {
   "cell_type": "markdown",
   "metadata": {},
   "source": [
    "## Your Task: Analyzing Health Trends\n",
    "\n",
    "![tissues and tea mug](images/sick_day.jpg)\n",
    "\n",
    "Photo by <a href=\"https://unsplash.com/@kellysikkema?utm_source=unsplash&utm_medium=referral&utm_content=creditCopyText\">Kelly Sikkema</a> on <a href=\"/?utm_source=unsplash&utm_medium=referral&utm_content=creditCopyText\">Unsplash</a>"
   ]
  },
  {
   "cell_type": "markdown",
   "metadata": {},
   "source": [
    "### Business Understanding\n",
    "\n",
    "Flatiron Health Insurance (FHI) is a growing private healthcare insurance provider founded on the premise that using data and analytics can improve the health insurance industry by providing better care and offerings to its patients. Every year, the Center for Disease Control (CDC) conducts surveys to understand the latest demographic, health, and fitness trends. You have been tasked with analyzing the recently published results of the 2017-2018 survey and providing your recommendations back to the Chief Analytics Officer and Chief Marketing Officer. You have been assigned the task of taking a first look at the data and beginning to answer several key questions:\n",
    "\t\t\t\t\t\t\t\t\t\t\t \t\t\t\t\t\t\t\t\n",
    "1. How does health status, represented by average number of days with bad physical health in the past month (`PHYSHLTH`), differ by state?\t\t\t\t\t \t\t\t\t\t\t\t\t\n",
    "2. Digging deeper into the data, what are some factors that impact health (demographics, behaviors, etc.)?\t\n",
    "\n",
    "### Data Understanding\n",
    "\n",
    "To get you started, the IT department formatted the data set into a tab delimited text file for only NY, NJ, and CT (FHI’s primary markets) called `case_study.csv`.\n",
    "\n",
    "There is also a PDF data dictionary called `data_dictionary.pdf`, which explains the meanings of the features and codes contained in this dataset.\n",
    "\n",
    "Both files are located in the `data/` directory of this repository.\n",
    "\n",
    "Prior to each statistical test, you will need to perform some data preparation, which could include:\n",
    "\n",
    "* Filtering out rows with irrelevant values\n",
    "* Transforming data from codes into human-readable values\n",
    "* Binning data to transform it from numeric to categorical\n",
    "* Creating new columns based on queries of the values in other columns\n",
    "\n",
    "For steps 2-5, you will need to select and execute an appropriate statistical test. Recall these tests we have learned so far:\n",
    "\n",
    "1. [Chi-squared test](https://docs.scipy.org/doc/scipy/reference/generated/scipy.stats.chi2_contingency.html): used for comparing a categorical feature against a categorical feature, to determine whether they are independent\n",
    "2. [t-test](https://docs.scipy.org/doc/scipy/reference/generated/scipy.stats.ttest_ind.html): used for comparing two categories of a numeric feature, to determine whether their means are the same across categories\n",
    "3. [ANOVA](https://www.statsmodels.org/stable/generated/statsmodels.stats.anova.anova_lm.html#statsmodels.stats.anova.anova_lm): used for comparing more than two categories of a numeric feature, to determine whether their means are the same across categories"
   ]
  },
  {
   "cell_type": "markdown",
   "metadata": {},
   "source": [
    "### Requirements\n",
    "\n",
    "#### 1. Prepare `PHYSHLTH` Data for Analysis\n",
    "\n",
    "Using the data dictionary, ensure that you understand the meaning of the `PHYSHLTH` column. Then clean the data so that only valid records of `PHYSHLTH` remain.\n",
    "\n",
    "#### 2. Describe the Distribution of Health Status by State\n",
    "\n",
    "Does health status (`PHYSHLTH`) differ by state (`STATE_`)? If so, by how much, and is it statistically significant?\n",
    "\n",
    "#### 3. Describe the Relationship between Health Status and Home Ownership Status\n",
    "\n",
    "Does health status (`PHYSHLTH`) differ between home owners and renters (`RENTHOM1`)? If so, by how much, and is it statistically significant?\n",
    "\n",
    "#### 4. Describe the Relationship between Chronic Sickness and Nicotine Use\n",
    "\n",
    "Does chronic sickness (`PHYSHLTH >= 15`) differ based on nicotine use (various columns)? If so, by how much, and is it statistically significant?\n",
    "\n",
    "#### 5. Choose Your Own Question\n",
    "\n",
    "Thinking about the business case, what is another question that might be useful to answer? Perform all analysis steps to answer this question."
   ]
  },
  {
   "cell_type": "markdown",
   "metadata": {},
   "source": [
    "## 1. Prepare `PHYSHLTH` Data for Analysis\n",
    "\n",
    "In the cells below, we include the relevant imports and load the data into a dataframe called `df`:"
   ]
  },
  {
   "cell_type": "code",
   "execution_count": 1,
   "metadata": {},
   "outputs": [],
   "source": [
    "# Run this cell without changes\n",
    "import pandas as pd\n",
    "import matplotlib.pyplot as plt\n",
    "import numpy as np\n",
    "%matplotlib inline"
   ]
  },
  {
   "cell_type": "code",
   "execution_count": 2,
   "metadata": {},
   "outputs": [
    {
     "data": {
      "text/html": [
       "<div>\n",
       "<style scoped>\n",
       "    .dataframe tbody tr th:only-of-type {\n",
       "        vertical-align: middle;\n",
       "    }\n",
       "\n",
       "    .dataframe tbody tr th {\n",
       "        vertical-align: top;\n",
       "    }\n",
       "\n",
       "    .dataframe thead th {\n",
       "        text-align: right;\n",
       "    }\n",
       "</style>\n",
       "<table border=\"1\" class=\"dataframe\">\n",
       "  <thead>\n",
       "    <tr style=\"text-align: right;\">\n",
       "      <th></th>\n",
       "      <th>_STATE</th>\n",
       "      <th>FMONTH</th>\n",
       "      <th>IDATE</th>\n",
       "      <th>IMONTH</th>\n",
       "      <th>IDAY</th>\n",
       "      <th>IYEAR</th>\n",
       "      <th>DISPCODE</th>\n",
       "      <th>SEQNO</th>\n",
       "      <th>_PSU</th>\n",
       "      <th>CTELENM1</th>\n",
       "      <th>...</th>\n",
       "      <th>_PA300R2</th>\n",
       "      <th>_PA30021</th>\n",
       "      <th>_PASTRNG</th>\n",
       "      <th>_PAREC1</th>\n",
       "      <th>_PASTAE1</th>\n",
       "      <th>_RFSEAT2</th>\n",
       "      <th>_RFSEAT3</th>\n",
       "      <th>_FLSHOT6</th>\n",
       "      <th>_PNEUMO2</th>\n",
       "      <th>_AIDTST3</th>\n",
       "    </tr>\n",
       "  </thead>\n",
       "  <tbody>\n",
       "    <tr>\n",
       "      <th>49938</th>\n",
       "      <td>9.0</td>\n",
       "      <td>5.0</td>\n",
       "      <td>5172017</td>\n",
       "      <td>5</td>\n",
       "      <td>17</td>\n",
       "      <td>2017</td>\n",
       "      <td>1200.0</td>\n",
       "      <td>2017000001</td>\n",
       "      <td>2.017000e+09</td>\n",
       "      <td>NaN</td>\n",
       "      <td>...</td>\n",
       "      <td>2.0</td>\n",
       "      <td>2.0</td>\n",
       "      <td>2.0</td>\n",
       "      <td>4.0</td>\n",
       "      <td>2.0</td>\n",
       "      <td>1.0</td>\n",
       "      <td>1.0</td>\n",
       "      <td>NaN</td>\n",
       "      <td>NaN</td>\n",
       "      <td>1.0</td>\n",
       "    </tr>\n",
       "    <tr>\n",
       "      <th>49939</th>\n",
       "      <td>9.0</td>\n",
       "      <td>2.0</td>\n",
       "      <td>2142017</td>\n",
       "      <td>2</td>\n",
       "      <td>14</td>\n",
       "      <td>2017</td>\n",
       "      <td>1200.0</td>\n",
       "      <td>2017000002</td>\n",
       "      <td>2.017000e+09</td>\n",
       "      <td>NaN</td>\n",
       "      <td>...</td>\n",
       "      <td>1.0</td>\n",
       "      <td>1.0</td>\n",
       "      <td>1.0</td>\n",
       "      <td>1.0</td>\n",
       "      <td>1.0</td>\n",
       "      <td>2.0</td>\n",
       "      <td>2.0</td>\n",
       "      <td>NaN</td>\n",
       "      <td>NaN</td>\n",
       "      <td>2.0</td>\n",
       "    </tr>\n",
       "    <tr>\n",
       "      <th>49940</th>\n",
       "      <td>9.0</td>\n",
       "      <td>1.0</td>\n",
       "      <td>1292017</td>\n",
       "      <td>1</td>\n",
       "      <td>29</td>\n",
       "      <td>2017</td>\n",
       "      <td>1200.0</td>\n",
       "      <td>2017000003</td>\n",
       "      <td>2.017000e+09</td>\n",
       "      <td>NaN</td>\n",
       "      <td>...</td>\n",
       "      <td>3.0</td>\n",
       "      <td>2.0</td>\n",
       "      <td>1.0</td>\n",
       "      <td>3.0</td>\n",
       "      <td>2.0</td>\n",
       "      <td>1.0</td>\n",
       "      <td>1.0</td>\n",
       "      <td>NaN</td>\n",
       "      <td>NaN</td>\n",
       "      <td>2.0</td>\n",
       "    </tr>\n",
       "    <tr>\n",
       "      <th>49941</th>\n",
       "      <td>9.0</td>\n",
       "      <td>7.0</td>\n",
       "      <td>9112017</td>\n",
       "      <td>9</td>\n",
       "      <td>11</td>\n",
       "      <td>2017</td>\n",
       "      <td>1200.0</td>\n",
       "      <td>2017000004</td>\n",
       "      <td>2.017000e+09</td>\n",
       "      <td>NaN</td>\n",
       "      <td>...</td>\n",
       "      <td>2.0</td>\n",
       "      <td>2.0</td>\n",
       "      <td>2.0</td>\n",
       "      <td>2.0</td>\n",
       "      <td>2.0</td>\n",
       "      <td>1.0</td>\n",
       "      <td>1.0</td>\n",
       "      <td>NaN</td>\n",
       "      <td>NaN</td>\n",
       "      <td>1.0</td>\n",
       "    </tr>\n",
       "    <tr>\n",
       "      <th>49942</th>\n",
       "      <td>9.0</td>\n",
       "      <td>5.0</td>\n",
       "      <td>7182017</td>\n",
       "      <td>7</td>\n",
       "      <td>18</td>\n",
       "      <td>2017</td>\n",
       "      <td>1200.0</td>\n",
       "      <td>2017000005</td>\n",
       "      <td>2.017000e+09</td>\n",
       "      <td>NaN</td>\n",
       "      <td>...</td>\n",
       "      <td>2.0</td>\n",
       "      <td>2.0</td>\n",
       "      <td>1.0</td>\n",
       "      <td>1.0</td>\n",
       "      <td>1.0</td>\n",
       "      <td>1.0</td>\n",
       "      <td>1.0</td>\n",
       "      <td>NaN</td>\n",
       "      <td>NaN</td>\n",
       "      <td>2.0</td>\n",
       "    </tr>\n",
       "    <tr>\n",
       "      <th>...</th>\n",
       "      <td>...</td>\n",
       "      <td>...</td>\n",
       "      <td>...</td>\n",
       "      <td>...</td>\n",
       "      <td>...</td>\n",
       "      <td>...</td>\n",
       "      <td>...</td>\n",
       "      <td>...</td>\n",
       "      <td>...</td>\n",
       "      <td>...</td>\n",
       "      <td>...</td>\n",
       "      <td>...</td>\n",
       "      <td>...</td>\n",
       "      <td>...</td>\n",
       "      <td>...</td>\n",
       "      <td>...</td>\n",
       "      <td>...</td>\n",
       "      <td>...</td>\n",
       "      <td>...</td>\n",
       "      <td>...</td>\n",
       "      <td>...</td>\n",
       "    </tr>\n",
       "    <tr>\n",
       "      <th>303774</th>\n",
       "      <td>36.0</td>\n",
       "      <td>5.0</td>\n",
       "      <td>5152017</td>\n",
       "      <td>5</td>\n",
       "      <td>15</td>\n",
       "      <td>2017</td>\n",
       "      <td>1200.0</td>\n",
       "      <td>2017012245</td>\n",
       "      <td>2.017012e+09</td>\n",
       "      <td>NaN</td>\n",
       "      <td>...</td>\n",
       "      <td>3.0</td>\n",
       "      <td>2.0</td>\n",
       "      <td>2.0</td>\n",
       "      <td>4.0</td>\n",
       "      <td>2.0</td>\n",
       "      <td>1.0</td>\n",
       "      <td>1.0</td>\n",
       "      <td>NaN</td>\n",
       "      <td>NaN</td>\n",
       "      <td>1.0</td>\n",
       "    </tr>\n",
       "    <tr>\n",
       "      <th>303775</th>\n",
       "      <td>36.0</td>\n",
       "      <td>6.0</td>\n",
       "      <td>6252017</td>\n",
       "      <td>6</td>\n",
       "      <td>25</td>\n",
       "      <td>2017</td>\n",
       "      <td>1200.0</td>\n",
       "      <td>2017012246</td>\n",
       "      <td>2.017012e+09</td>\n",
       "      <td>NaN</td>\n",
       "      <td>...</td>\n",
       "      <td>2.0</td>\n",
       "      <td>2.0</td>\n",
       "      <td>2.0</td>\n",
       "      <td>4.0</td>\n",
       "      <td>2.0</td>\n",
       "      <td>1.0</td>\n",
       "      <td>1.0</td>\n",
       "      <td>NaN</td>\n",
       "      <td>NaN</td>\n",
       "      <td>1.0</td>\n",
       "    </tr>\n",
       "    <tr>\n",
       "      <th>303776</th>\n",
       "      <td>36.0</td>\n",
       "      <td>7.0</td>\n",
       "      <td>7212017</td>\n",
       "      <td>7</td>\n",
       "      <td>21</td>\n",
       "      <td>2017</td>\n",
       "      <td>1200.0</td>\n",
       "      <td>2017012247</td>\n",
       "      <td>2.017012e+09</td>\n",
       "      <td>NaN</td>\n",
       "      <td>...</td>\n",
       "      <td>2.0</td>\n",
       "      <td>2.0</td>\n",
       "      <td>2.0</td>\n",
       "      <td>4.0</td>\n",
       "      <td>2.0</td>\n",
       "      <td>1.0</td>\n",
       "      <td>1.0</td>\n",
       "      <td>NaN</td>\n",
       "      <td>NaN</td>\n",
       "      <td>1.0</td>\n",
       "    </tr>\n",
       "    <tr>\n",
       "      <th>303777</th>\n",
       "      <td>36.0</td>\n",
       "      <td>7.0</td>\n",
       "      <td>7202017</td>\n",
       "      <td>7</td>\n",
       "      <td>20</td>\n",
       "      <td>2017</td>\n",
       "      <td>1200.0</td>\n",
       "      <td>2017012248</td>\n",
       "      <td>2.017012e+09</td>\n",
       "      <td>NaN</td>\n",
       "      <td>...</td>\n",
       "      <td>9.0</td>\n",
       "      <td>9.0</td>\n",
       "      <td>9.0</td>\n",
       "      <td>9.0</td>\n",
       "      <td>9.0</td>\n",
       "      <td>9.0</td>\n",
       "      <td>9.0</td>\n",
       "      <td>9.0</td>\n",
       "      <td>9.0</td>\n",
       "      <td>9.0</td>\n",
       "    </tr>\n",
       "    <tr>\n",
       "      <th>303778</th>\n",
       "      <td>36.0</td>\n",
       "      <td>7.0</td>\n",
       "      <td>7252017</td>\n",
       "      <td>7</td>\n",
       "      <td>25</td>\n",
       "      <td>2017</td>\n",
       "      <td>1200.0</td>\n",
       "      <td>2017012249</td>\n",
       "      <td>2.017012e+09</td>\n",
       "      <td>NaN</td>\n",
       "      <td>...</td>\n",
       "      <td>3.0</td>\n",
       "      <td>2.0</td>\n",
       "      <td>2.0</td>\n",
       "      <td>4.0</td>\n",
       "      <td>2.0</td>\n",
       "      <td>1.0</td>\n",
       "      <td>1.0</td>\n",
       "      <td>NaN</td>\n",
       "      <td>NaN</td>\n",
       "      <td>1.0</td>\n",
       "    </tr>\n",
       "  </tbody>\n",
       "</table>\n",
       "<p>34545 rows × 358 columns</p>\n",
       "</div>"
      ],
      "text/plain": [
       "        _STATE  FMONTH    IDATE  IMONTH  IDAY  IYEAR  DISPCODE       SEQNO  \\\n",
       "49938      9.0     5.0  5172017       5    17   2017    1200.0  2017000001   \n",
       "49939      9.0     2.0  2142017       2    14   2017    1200.0  2017000002   \n",
       "49940      9.0     1.0  1292017       1    29   2017    1200.0  2017000003   \n",
       "49941      9.0     7.0  9112017       9    11   2017    1200.0  2017000004   \n",
       "49942      9.0     5.0  7182017       7    18   2017    1200.0  2017000005   \n",
       "...        ...     ...      ...     ...   ...    ...       ...         ...   \n",
       "303774    36.0     5.0  5152017       5    15   2017    1200.0  2017012245   \n",
       "303775    36.0     6.0  6252017       6    25   2017    1200.0  2017012246   \n",
       "303776    36.0     7.0  7212017       7    21   2017    1200.0  2017012247   \n",
       "303777    36.0     7.0  7202017       7    20   2017    1200.0  2017012248   \n",
       "303778    36.0     7.0  7252017       7    25   2017    1200.0  2017012249   \n",
       "\n",
       "                _PSU  CTELENM1  ...  _PA300R2  _PA30021  _PASTRNG  _PAREC1  \\\n",
       "49938   2.017000e+09       NaN  ...       2.0       2.0       2.0      4.0   \n",
       "49939   2.017000e+09       NaN  ...       1.0       1.0       1.0      1.0   \n",
       "49940   2.017000e+09       NaN  ...       3.0       2.0       1.0      3.0   \n",
       "49941   2.017000e+09       NaN  ...       2.0       2.0       2.0      2.0   \n",
       "49942   2.017000e+09       NaN  ...       2.0       2.0       1.0      1.0   \n",
       "...              ...       ...  ...       ...       ...       ...      ...   \n",
       "303774  2.017012e+09       NaN  ...       3.0       2.0       2.0      4.0   \n",
       "303775  2.017012e+09       NaN  ...       2.0       2.0       2.0      4.0   \n",
       "303776  2.017012e+09       NaN  ...       2.0       2.0       2.0      4.0   \n",
       "303777  2.017012e+09       NaN  ...       9.0       9.0       9.0      9.0   \n",
       "303778  2.017012e+09       NaN  ...       3.0       2.0       2.0      4.0   \n",
       "\n",
       "        _PASTAE1  _RFSEAT2  _RFSEAT3  _FLSHOT6  _PNEUMO2  _AIDTST3  \n",
       "49938        2.0       1.0       1.0       NaN       NaN       1.0  \n",
       "49939        1.0       2.0       2.0       NaN       NaN       2.0  \n",
       "49940        2.0       1.0       1.0       NaN       NaN       2.0  \n",
       "49941        2.0       1.0       1.0       NaN       NaN       1.0  \n",
       "49942        1.0       1.0       1.0       NaN       NaN       2.0  \n",
       "...          ...       ...       ...       ...       ...       ...  \n",
       "303774       2.0       1.0       1.0       NaN       NaN       1.0  \n",
       "303775       2.0       1.0       1.0       NaN       NaN       1.0  \n",
       "303776       2.0       1.0       1.0       NaN       NaN       1.0  \n",
       "303777       9.0       9.0       9.0       9.0       9.0       9.0  \n",
       "303778       2.0       1.0       1.0       NaN       NaN       1.0  \n",
       "\n",
       "[34545 rows x 358 columns]"
      ]
     },
     "execution_count": 2,
     "metadata": {},
     "output_type": "execute_result"
    }
   ],
   "source": [
    "# Run this cell without changes\n",
    "df = pd.read_csv(\"data/case_study.csv\", index_col=0, low_memory=False)\n",
    "df"
   ]
  },
  {
   "cell_type": "markdown",
   "metadata": {},
   "source": [
    "Our main column of interest is called `PHYSHLTH`. We display summary statistics and plot a distribution below:"
   ]
  },
  {
   "cell_type": "code",
   "execution_count": 3,
   "metadata": {},
   "outputs": [
    {
     "data": {
      "text/plain": [
       "count    34545.000000\n",
       "mean        60.213403\n",
       "std         37.504566\n",
       "min          1.000000\n",
       "25%         15.000000\n",
       "50%         88.000000\n",
       "75%         88.000000\n",
       "max         99.000000\n",
       "Name: PHYSHLTH, dtype: float64"
      ]
     },
     "execution_count": 3,
     "metadata": {},
     "output_type": "execute_result"
    }
   ],
   "source": [
    "# Run this cell without changes\n",
    "df['PHYSHLTH'].describe()"
   ]
  },
  {
   "cell_type": "code",
   "execution_count": 4,
   "metadata": {},
   "outputs": [
    {
     "data": {
      "image/png": "[encoded data removed]",
      "text/plain": [
       "<Figure size 432x288 with 1 Axes>"
      ]
     },
     "metadata": {
      "needs_background": "light"
     },
     "output_type": "display_data"
    }
   ],
   "source": [
    "# Run this cell without changes\n",
    "fig, ax = plt.subplots()\n",
    "ax.hist(df[\"PHYSHLTH\"], bins=\"auto\")\n",
    "ax.set_xlabel(\"PHYSHLTH\")\n",
    "ax.set_ylabel(\"Count\")\n",
    "ax.set_title(\"Distribution of PHYSHLTH in Raw Data\");"
   ]
  },
  {
   "cell_type": "markdown",
   "metadata": {},
   "source": [
    "This feature is supposed to represent the number of days with bad physical health out of the past 30 days. Do you see anything wrong with what is displayed above? Explain."
   ]
  },
  {
   "cell_type": "code",
   "execution_count": 5,
   "metadata": {},
   "outputs": [
    {
     "data": {
      "text/plain": [
       "'\\nYes, there is something wrong. The \\'PHYSHLTH\\' column includes special codes like 88, 77, and 99 that are not valid day counts. These codes represent \"None\", \"Don\\'t know\", and \"Refused\", respectively. Including these values skews the statistics and makes the histogram misleading. These values should be either recoded or removed before further analysis.\\n'"
      ]
     },
     "execution_count": 5,
     "metadata": {},
     "output_type": "execute_result"
    }
   ],
   "source": [
    "# Replace None with appropriate text\n",
    "\"\"\"\n",
    "Yes, there is something wrong. The 'PHYSHLTH' column includes special codes like 88, 77, and 99 that are not valid day counts. These codes represent \"None\", \"Don't know\", and \"Refused\", respectively. Including these values skews the statistics and makes the histogram misleading. These values should be either recoded or removed before further analysis.\n",
    "\"\"\"\n"
   ]
  },
  {
   "cell_type": "markdown",
   "metadata": {},
   "source": [
    "PHYSHLTH is supposed to represent the number of days (0–30) in the past month that the respondent experienced bad physical health. But based on the .describe() output:\n",
    "\n",
    "The mean is 60.2, which is above the possible maximum of 30.\n",
    "\n",
    "The 50th percentile (median) and 75th percentile are both 88, which is not a valid number of days.\n",
    "\n",
    "The maximum is 99, which is also invalid.\n",
    "\n",
    "### Explanation\n",
    "PHYSHLTH uses special codes for non-responses:\n",
    "\n",
    "88 means “None” (i.e., 0 days of bad health)\n",
    "\n",
    "77 means “Don’t know / Not sure”\n",
    "\n",
    "99 means “Refused”"
   ]
  },
  {
   "cell_type": "markdown",
   "metadata": {},
   "source": [
    "Look in the data dictionary, page 17, to understand what is happening with these values. Then edit the cell below so:\n",
    "\n",
    "* The records where the `PHYSHLTH` value label is `None` are converted to 0\n",
    "* The records where the `PHYSHLTH` value label is `Number of days` are kept as-is\n",
    "* All other records are dropped (i.e. records with `Don't know/Not sure`, `Refused`, and `Not asked or Missing` value labels for `PHYSHLTH` are dropped)"
   ]
  },
  {
   "cell_type": "code",
   "execution_count": 8,
   "metadata": {},
   "outputs": [
    {
     "name": "stdout",
     "output_type": "stream",
     "text": [
      "count    33747.000000\n",
      "mean         4.085341\n",
      "std          8.513293\n",
      "min          0.000000\n",
      "25%          0.000000\n",
      "50%          0.000000\n",
      "75%          3.000000\n",
      "max         30.000000\n",
      "Name: PHYSHLTH, dtype: float64\n"
     ]
    }
   ],
   "source": [
    "# Your code here\n",
    "\n",
    "# Replace '88' with 0 (no bad health days)\n",
    "df[\"PHYSHLTH\"] = df[\"PHYSHLTH\"].replace(88, 0)\n",
    "\n",
    "# Keep only rows where PHYSHLTH is between 0 and 30\n",
    "df = df[df[\"PHYSHLTH\"].between(0, 30)].copy()  # <-- update df instead of df_clean\n",
    "\n",
    "# Check result\n",
    "print(df[\"PHYSHLTH\"].describe())\n",
    "\n",
    "# Validation checks\n",
    "assert df.shape == (33747, 358)\n",
    "assert df[\"PHYSHLTH\"].max() == 30.0\n",
    "\n"
   ]
  },
  {
   "cell_type": "markdown",
   "metadata": {},
   "source": [
    "Run the code below to ensure you have the correct, cleaned dataframe:"
   ]
  },
  {
   "cell_type": "code",
   "execution_count": 10,
   "metadata": {},
   "outputs": [],
   "source": [
    "# Run this cell without changes\n",
    "\n",
    "# We should have fewer rows, the same number of columns\n",
    "assert df.shape == (33747, 358)\n",
    "\n",
    "# The maximum value in this column should now be 30\n",
    "assert df[\"PHYSHLTH\"].max() == 30.0"
   ]
  },
  {
   "cell_type": "markdown",
   "metadata": {},
   "source": [
    "Now we can look at the same descriptive information on our cleaned data:"
   ]
  },
  {
   "cell_type": "code",
   "execution_count": 11,
   "metadata": {},
   "outputs": [
    {
     "data": {
      "text/plain": [
       "count    33747.000000\n",
       "mean         4.085341\n",
       "std          8.513293\n",
       "min          0.000000\n",
       "25%          0.000000\n",
       "50%          0.000000\n",
       "75%          3.000000\n",
       "max         30.000000\n",
       "Name: PHYSHLTH, dtype: float64"
      ]
     },
     "execution_count": 11,
     "metadata": {},
     "output_type": "execute_result"
    }
   ],
   "source": [
    "# Run this cell without changes\n",
    "df['PHYSHLTH'].describe()"
   ]
  },
  {
   "cell_type": "code",
   "execution_count": 12,
   "metadata": {},
   "outputs": [
    {
     "data": {
      "image/png": "[encoded data removed]",
      "text/plain": [
       "<Figure size 432x288 with 1 Axes>"
      ]
     },
     "metadata": {
      "needs_background": "light"
     },
     "output_type": "display_data"
    }
   ],
   "source": [
    "# Run this cell without changes\n",
    "fig, ax = plt.subplots()\n",
    "ax.hist(df[\"PHYSHLTH\"])\n",
    "ax.set_xlabel(\"PHYSHLTH\")\n",
    "ax.set_ylabel(\"Count\")\n",
    "ax.set_title(\"Distribution of PHYSHLTH in Cleaned Data\");"
   ]
  },
  {
   "cell_type": "markdown",
   "metadata": {},
   "source": [
    "That looks a lot more reasonable. Let's move on to the next step."
   ]
  },
  {
   "cell_type": "markdown",
   "metadata": {},
   "source": [
    "## 2. Describe the Distribution of Health Status by State\n",
    "\n",
    "As mentioned previously, this dataset only includes data from three states."
   ]
  },
  {
   "cell_type": "code",
   "execution_count": null,
   "metadata": {},
   "outputs": [],
   "source": [
    "# Run this cell without changes\n",
    "df[\"_STATE\"].value_counts()"
   ]
  },
  {
   "cell_type": "markdown",
   "metadata": {},
   "source": [
    "Look in the data dictionary, pages 2-3, to determine which states map onto which codes. Then replace the numbers with strings representing the state names."
   ]
  },
  {
   "cell_type": "code",
   "execution_count": 13,
   "metadata": {},
   "outputs": [
    {
     "name": "stdout",
     "output_type": "stream",
     "text": [
      "New York       11876\n",
      "New Jersey     11458\n",
      "Connecticut    10413\n",
      "Name: _STATE, dtype: int64\n"
     ]
    }
   ],
   "source": [
    "# Your code here\n",
    "\n",
    "# Create mapping from state codes to state names\n",
    "state_map = {\n",
    "    9: \"Connecticut\",\n",
    "    34: \"New Jersey\",\n",
    "    36: \"New York\"\n",
    "}\n",
    "\n",
    "# Apply mapping to _STATE column\n",
    "df[\"_STATE\"] = df[\"_STATE\"].map(state_map)\n",
    "\n",
    "#verify the result\n",
    "print(df[\"_STATE\"].value_counts())\n"
   ]
  },
  {
   "cell_type": "markdown",
   "metadata": {},
   "source": [
    "Below, we check the values:"
   ]
  },
  {
   "cell_type": "code",
   "execution_count": 15,
   "metadata": {},
   "outputs": [],
   "source": [
    "# Run this cell without changes\n",
    "\n",
    "# Shape should be the same\n",
    "assert df.shape == (33747, 358)\n",
    "\n",
    "# Values in state column should be changed\n",
    "assert sorted(list(df[\"_STATE\"].value_counts().index)) == ['Connecticut', 'New Jersey', 'New York']"
   ]
  },
  {
   "cell_type": "code",
   "execution_count": 16,
   "metadata": {},
   "outputs": [
    {
     "data": {
      "image/png": "[encoded data removed]",
      "text/plain": [
       "<Figure size 1080x432 with 1 Axes>"
      ]
     },
     "metadata": {
      "needs_background": "light"
     },
     "output_type": "display_data"
    }
   ],
   "source": [
    "# Run this cell without changes\n",
    "\n",
    "ny = df.loc[df[\"_STATE\"] == \"New York\", \"PHYSHLTH\"]\n",
    "nj = df.loc[df[\"_STATE\"] == \"New Jersey\", \"PHYSHLTH\"]\n",
    "ct = df.loc[df[\"_STATE\"] == \"Connecticut\", \"PHYSHLTH\"]\n",
    "\n",
    "fig, ax = plt.subplots(figsize=(15, 6))\n",
    "\n",
    "ax.hist(\n",
    "    x=[ny, nj, ct],\n",
    "    label=[\"New York\", \"New Jersey\", \"Connecticut\"],\n",
    "    bins=range(32),\n",
    "    align=\"left\"\n",
    ")\n",
    "\n",
    "ax.set_xlabel(\"PHYSHLTH\")\n",
    "ax.set_ylabel(\"Count\")\n",
    "ax.set_title(\"Distribution of PHYSHLTH by State\")\n",
    "\n",
    "ax.legend(title=\"State\")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"
   ]
  },
  {
   "cell_type": "markdown",
   "metadata": {},
   "source": [
    "Looking at the plot above, does the distribution seem to differ by state?\n",
    "\n",
    "(Just answer based on a visual inspection; we will do the statistical assessment next.)"
   ]
  },
  {
   "cell_type": "code",
   "execution_count": null,
   "metadata": {},
   "outputs": [],
   "source": [
    "# Replace None with appropriate text\n",
    "\"\"\"\n",
    "Yes, based on visual inspection, the distributions of PHYSHLTH appear to differ slightly by state. \n",
    "\n",
    "For example\n",
    "- New York seems to have more respondents with higher counts of bad physical health days (e.g., right tail looks heavier).\n",
    "- Connecticut appears to have a larger proportion of people reporting zero bad health days.\n",
    "- New Jersey’s distribution is somewhere in between.\n",
    "\n",
    "While the general shape of the distributions is similar (skewed heavily toward 0), there are enough visual differences to justify running a statistical test to confirm if those differences are significant.\n",
    "\"\"\"\n"
   ]
  },
  {
   "cell_type": "markdown",
   "metadata": {},
   "source": [
    "For the statistical test, we will be comparing the *means* of `PHYSHLTH` across states, as a representation of the overall distribution. In other words, when operationalizing the question **does `PHYSHLTH` differ by state?** we want to answer that in terms of the mean `PHYSHLTH`.\n",
    "\n",
    "Let's look at those means:"
   ]
  },
  {
   "cell_type": "code",
   "execution_count": 17,
   "metadata": {},
   "outputs": [
    {
     "data": {
      "text/plain": [
       "_STATE\n",
       "Connecticut    3.688562\n",
       "New Jersey     4.380957\n",
       "New York       4.148030\n",
       "Name: PHYSHLTH, dtype: float64"
      ]
     },
     "execution_count": 17,
     "metadata": {},
     "output_type": "execute_result"
    }
   ],
   "source": [
    "# Run this cell without changes\n",
    "df.groupby(\"_STATE\")[\"PHYSHLTH\"].mean()"
   ]
  },
  {
   "cell_type": "markdown",
   "metadata": {},
   "source": [
    "You likely noted that the overall distribution looked about the same, but these means are different. We have a range from Connecticut with about 3.7 days of bad health to New Jersey with about 4.4 days. But is that difference statistically significant?"
   ]
  },
  {
   "cell_type": "markdown",
   "metadata": {},
   "source": [
    "Identify which of the statistical tests you have learned is the most appropriate for this question, and why. Make sure you mention what kinds of variables are being compared (numeric and categorical), and how many categories there are."
   ]
  },
  {
   "cell_type": "code",
   "execution_count": 18,
   "metadata": {},
   "outputs": [
    {
     "data": {
      "text/plain": [
       "\"\\nThe most appropriate statistical test for this question is **ANOVA (Analysis of Variance)**.\\n\\nHere's why:\\n- We are comparing the **means** of a **numeric variable**: `PHYSHLTH` (number of days with bad physical health).\\n- Across more than **two groups** (specifically, three states: Connecticut, New Jersey, and New York), which are **categorical**.\\n- ANOVA is designed to test whether the **means** of a numeric variable are significantly different **across multiple categories** of a categorical variable.\\n\\nIf ANOVA returns a statistically significant result, we can conclude that at least one of the state means is significantly different from the others.\\n\""
      ]
     },
     "execution_count": 18,
     "metadata": {},
     "output_type": "execute_result"
    }
   ],
   "source": [
    "# Replace None with appropriate text\n",
    "\"\"\"\n",
    "The most appropriate statistical test for this question is **ANOVA (Analysis of Variance)**.\n",
    "\n",
    "Here's why:\n",
    "- We are comparing the **means** of a **numeric variable**: `PHYSHLTH` (number of days with bad physical health).\n",
    "- Across more than **two groups** (specifically, three states: Connecticut, New Jersey, and New York), which are **categorical**.\n",
    "- ANOVA is designed to test whether the **means** of a numeric variable are significantly different **across multiple categories** of a categorical variable.\n",
    "\n",
    "If ANOVA returns a statistically significant result, we can conclude that at least one of the state means is significantly different from the others.\n",
    "\"\"\""
   ]
  },
  {
   "cell_type": "markdown",
   "metadata": {},
   "source": [
    "Now, identify the null and alternative hypotheses:"
   ]
  },
  {
   "cell_type": "code",
   "execution_count": 19,
   "metadata": {},
   "outputs": [
    {
     "data": {
      "text/plain": [
       "'\\nNull Hypothesis (H₀): The mean number of bad physical health days (PHYSHLTH) is the same across all three states (Connecticut, New Jersey, and New York).\\n\\nAlternative Hypothesis (H₁): At least one state has a mean number of bad physical health days (PHYSHLTH) that is different from the others.\\n'"
      ]
     },
     "execution_count": 19,
     "metadata": {},
     "output_type": "execute_result"
    }
   ],
   "source": [
    "# Replace None with appropriate text\n",
    "\"\"\"\n",
    "Null Hypothesis (H₀): The mean number of bad physical health days (PHYSHLTH) is the same across all three states (Connecticut, New Jersey, and New York).\n",
    "\n",
    "Alternative Hypothesis (H₁): At least one state has a mean number of bad physical health days (PHYSHLTH) that is different from the others.\n",
    "\"\"\"\n"
   ]
  },
  {
   "cell_type": "markdown",
   "metadata": {},
   "source": [
    "In the cell below, we set up and execute the statistical test for you. If this doesn't match your previous answer about which test to perform, look at the solution branch to understand why this is the appropriate test."
   ]
  },
  {
   "cell_type": "code",
   "execution_count": 20,
   "metadata": {},
   "outputs": [
    {
     "data": {
      "text/html": [
       "<div>\n",
       "<style scoped>\n",
       "    .dataframe tbody tr th:only-of-type {\n",
       "        vertical-align: middle;\n",
       "    }\n",
       "\n",
       "    .dataframe tbody tr th {\n",
       "        vertical-align: top;\n",
       "    }\n",
       "\n",
       "    .dataframe thead th {\n",
       "        text-align: right;\n",
       "    }\n",
       "</style>\n",
       "<table border=\"1\" class=\"dataframe\">\n",
       "  <thead>\n",
       "    <tr style=\"text-align: right;\">\n",
       "      <th></th>\n",
       "      <th>df</th>\n",
       "      <th>sum_sq</th>\n",
       "      <th>mean_sq</th>\n",
       "      <th>F</th>\n",
       "      <th>PR(&gt;F)</th>\n",
       "    </tr>\n",
       "  </thead>\n",
       "  <tbody>\n",
       "    <tr>\n",
       "      <th>C(_STATE)</th>\n",
       "      <td>2.0</td>\n",
       "      <td>2.687322e+03</td>\n",
       "      <td>1343.660882</td>\n",
       "      <td>18.558645</td>\n",
       "      <td>8.800607e-09</td>\n",
       "    </tr>\n",
       "    <tr>\n",
       "      <th>Residual</th>\n",
       "      <td>33744.0</td>\n",
       "      <td>2.443093e+06</td>\n",
       "      <td>72.400809</td>\n",
       "      <td>NaN</td>\n",
       "      <td>NaN</td>\n",
       "    </tr>\n",
       "  </tbody>\n",
       "</table>\n",
       "</div>"
      ],
      "text/plain": [
       "                df        sum_sq      mean_sq          F        PR(>F)\n",
       "C(_STATE)      2.0  2.687322e+03  1343.660882  18.558645  8.800607e-09\n",
       "Residual   33744.0  2.443093e+06    72.400809        NaN           NaN"
      ]
     },
     "execution_count": 20,
     "metadata": {},
     "output_type": "execute_result"
    }
   ],
   "source": [
    "# Run this cell without changes\n",
    "import statsmodels.api as sm\n",
    "from statsmodels.formula.api import ols\n",
    "\n",
    "formula = 'PHYSHLTH ~ C(_STATE)'\n",
    "lm = ols(formula, df).fit()\n",
    "sm.stats.anova_lm(lm)"
   ]
  },
  {
   "cell_type": "markdown",
   "metadata": {},
   "source": [
    "Interpret the results of this statistical test below. What is the calculated p-value? Were we able to reject the null hypothesis at an alpha of 0.05? What does this say about how `PHYSHLTH` varies by state? What recommendations would you make to the business?"
   ]
  },
  {
   "cell_type": "code",
   "execution_count": 21,
   "metadata": {},
   "outputs": [
    {
     "data": {
      "text/plain": [
       "'\\nThe calculated p-value from the ANOVA test is approximately **8.80e-09**, which is **much smaller** than the alpha value of 0.05.\\n\\nBecause the p-value is so low, we **reject the null hypothesis**. This means that there is **a statistically significant difference** in the mean number of bad physical health days (PHYSHLTH) across at least one of the three states (Connecticut, New Jersey, New York).\\n\\nAlthough the differences in mean values (between ~3.7 and ~4.4 days) may seem small in absolute terms, they are statistically significant and may reflect meaningful health trends within the populations.\\n\\n**Business Recommendations**:\\n- Tailor outreach and resources in each state based on health patterns. For instance, Connecticut might require less intensive intervention than New Jersey.\\n- Investigate further why New Jersey has a higher average number of bad health days. \\n- Conduct additional analysis to identify other contributing factors—e.g., socioeconomic status, access to care, or behavioral risk factors—that may explain state-level differences.\\n'"
      ]
     },
     "execution_count": 21,
     "metadata": {},
     "output_type": "execute_result"
    }
   ],
   "source": [
    "# Replace None with appropriate text\n",
    "\"\"\"\n",
    "The calculated p-value from the ANOVA test is approximately **8.80e-09**, which is **much smaller** than the alpha value of 0.05.\n",
    "\n",
    "Because the p-value is so low, we **reject the null hypothesis**. This means that there is **a statistically significant difference** in the mean number of bad physical health days (PHYSHLTH) across at least one of the three states (Connecticut, New Jersey, New York).\n",
    "\n",
    "Although the differences in mean values (between ~3.7 and ~4.4 days) may seem small in absolute terms, they are statistically significant and may reflect meaningful health trends within the populations.\n",
    "\n",
    "**Business Recommendations**:\n",
    "- Tailor outreach and resources in each state based on health patterns. For instance, Connecticut might require less intensive intervention than New Jersey.\n",
    "- Investigate further why New Jersey has a higher average number of bad health days. \n",
    "- Conduct additional analysis to identify other contributing factors—e.g., socioeconomic status, access to care, or behavioral risk factors—that may explain state-level differences.\n",
    "\"\"\"\n"
   ]
  },
  {
   "cell_type": "markdown",
   "metadata": {},
   "source": [
    "With that section wrapped up, let's move on to the next step."
   ]
  },
  {
   "cell_type": "markdown",
   "metadata": {},
   "source": [
    "## 3. Describe the Relationship between Health Status and Home Ownership Status\n",
    "\n",
    "This time, we want to categorize respondents by demographic information: specifically, we'll look at whether or not they own their home.\n",
    "\n",
    "Once again, this will require some data preparation. The variable of interest is contained in the `RENTHOM1` column. Currently the values look like this:"
   ]
  },
  {
   "cell_type": "code",
   "execution_count": 22,
   "metadata": {},
   "outputs": [
    {
     "data": {
      "text/plain": [
       "1.0    21690\n",
       "2.0    10244\n",
       "3.0     1526\n",
       "9.0      194\n",
       "7.0       93\n",
       "Name: RENTHOM1, dtype: int64"
      ]
     },
     "execution_count": 22,
     "metadata": {},
     "output_type": "execute_result"
    }
   ],
   "source": [
    "# Run this cell without changes\n",
    "df[\"RENTHOM1\"].value_counts()"
   ]
  },
  {
   "cell_type": "markdown",
   "metadata": {},
   "source": [
    "In the cell below, modify `df` so that we have dropped all records where the `RENTHOM1` value label is neither `Own` nor `Rent`, and we have replaced the numeric codes with `Own` and `Rent` respectively. You can find more information about codes on page 33 of the data dictionary."
   ]
  },
  {
   "cell_type": "code",
   "execution_count": 23,
   "metadata": {},
   "outputs": [
    {
     "name": "stdout",
     "output_type": "stream",
     "text": [
      "Own     21690\n",
      "Rent    10244\n",
      "Name: RENTHOM1, dtype: int64\n"
     ]
    }
   ],
   "source": [
    "# Your code here\n",
    "# Keep only rows where RENTHOM1 is 1 (Own) or 2 (Rent)\n",
    "df = df[df[\"RENTHOM1\"].isin([1.0, 2.0])].copy()\n",
    "\n",
    "# Replace values with labels\n",
    "df[\"RENTHOM1\"] = df[\"RENTHOM1\"].replace({1.0: \"Own\", 2.0: \"Rent\"})\n",
    "\n",
    "# Check result\n",
    "print(df[\"RENTHOM1\"].value_counts())\n"
   ]
  },
  {
   "cell_type": "code",
   "execution_count": 24,
   "metadata": {},
   "outputs": [
    {
     "data": {
      "text/plain": [
       "Own     21690\n",
       "Rent    10244\n",
       "Name: RENTHOM1, dtype: int64"
      ]
     },
     "execution_count": 24,
     "metadata": {},
     "output_type": "execute_result"
    }
   ],
   "source": [
    "# Run this cell without changes\n",
    "df[\"RENTHOM1\"].value_counts()"
   ]
  },
  {
   "cell_type": "markdown",
   "metadata": {},
   "source": [
    "Below, we check that this was done correctly:"
   ]
  },
  {
   "cell_type": "code",
   "execution_count": 25,
   "metadata": {},
   "outputs": [],
   "source": [
    "# Run this cell without changes\n",
    "\n",
    "# Number of rows should be smaller again\n",
    "assert df.shape == (31934, 358)\n",
    "\n",
    "# Only two values should be present in this column\n",
    "assert sorted(list(df[\"RENTHOM1\"].value_counts().index)) == ['Own', 'Rent']"
   ]
  },
  {
   "cell_type": "markdown",
   "metadata": {},
   "source": [
    "Now, similar to the previous step, create a plot that shows the distribution of `PHYSHLTH` for those who own vs. rent their homes, including appropriate axis labels and legend. Because there is more of an imbalance of categories this time (more than twice as many owners as renters, compared to nearly-even numbers from New York, New Jersey, and Connecticut), make sure you add the argument `density=True`, so that the y-axis shows the density (proportion) rather than the count."
   ]
  },
  {
   "cell_type": "code",
   "execution_count": 26,
   "metadata": {},
   "outputs": [
    {
     "data": {
      "image/png": "[encoded data removed]",
      "text/plain": [
       "<Figure size 1080x432 with 1 Axes>"
      ]
     },
     "metadata": {
      "needs_background": "light"
     },
     "output_type": "display_data"
    }
   ],
   "source": [
    "# Your code here\n",
    "# Split PHYSHLTH by home ownership status\n",
    "own = df[df[\"RENTHOM1\"] == \"Own\"][\"PHYSHLTH\"]\n",
    "rent = df[df[\"RENTHOM1\"] == \"Rent\"][\"PHYSHLTH\"]\n",
    "\n",
    "# Plot histogram\n",
    "fig, ax = plt.subplots(figsize=(15, 6))\n",
    "\n",
    "ax.hist(\n",
    "    [own, rent],\n",
    "    label=[\"Own\", \"Rent\"],\n",
    "    bins=range(32),\n",
    "    align=\"left\",\n",
    "    density=True\n",
    ")\n",
    "\n",
    "# Set labels and title\n",
    "ax.set_xlabel(\"Number of Days with Bad Physical Health in Past 30 Days (PHYSHLTH)\")\n",
    "ax.set_ylabel(\"Density\")\n",
    "ax.set_title(\"Distribution of PHYSHLTH by Home Ownership Status\")\n",
    "ax.legend(title=\"Home Ownership Status\")\n",
    "\n",
    "plt.show()\n"
   ]
  },
  {
   "cell_type": "markdown",
   "metadata": {},
   "source": [
    "Then run this code to find the averages:"
   ]
  },
  {
   "cell_type": "code",
   "execution_count": 27,
   "metadata": {},
   "outputs": [
    {
     "data": {
      "text/plain": [
       "RENTHOM1\n",
       "Own     3.531213\n",
       "Rent    5.197970\n",
       "Name: PHYSHLTH, dtype: float64"
      ]
     },
     "execution_count": 27,
     "metadata": {},
     "output_type": "execute_result"
    }
   ],
   "source": [
    "# Run this cell without changes\n",
    "df.groupby(\"RENTHOM1\")[\"PHYSHLTH\"].mean()"
   ]
  },
  {
   "cell_type": "markdown",
   "metadata": {},
   "source": [
    "Now, interpret the plot and averages. Does it seem like there a difference in the number of unhealthy days between those who rent their homes and those who own their homes? How does this compare to the distributions by state?"
   ]
  },
  {
   "cell_type": "code",
   "execution_count": 28,
   "metadata": {},
   "outputs": [
    {
     "data": {
      "text/plain": [
       "'\\nYes, there appears to be a difference in the number of unhealthy days between those who rent and those who own their homes.\\n\\nFrom the plot (with density=True), renters generally report more days of poor physical health than owners. This is supported by the average values: renters report an average of approximately 5.2 unhealthy days per month, while owners report only about 3.5 days.\\n\\nThis difference of roughly 1.7 days is larger than the differences we saw between states, which ranged from about 3.7 to 4.4 days. Home ownership status appears to have a stronger association with physical health than the state of residence in this dataset.\\n\\nThis might suggest that socioeconomic factors tied to housing—like financial stability or maybe stress could play a significant role in health outcomes.\\n'"
      ]
     },
     "execution_count": 28,
     "metadata": {},
     "output_type": "execute_result"
    }
   ],
   "source": [
    "# Replace None with appropriate text\n",
    "\"\"\"\n",
    "Yes, there appears to be a difference in the number of unhealthy days between those who rent and those who own their homes.\n",
    "\n",
    "From the plot (with density=True), renters generally report more days of poor physical health than owners. This is supported by the average values: renters report an average of approximately 5.2 unhealthy days per month, while owners report only about 3.5 days.\n",
    "\n",
    "This difference of roughly 1.7 days is larger than the differences we saw between states, which ranged from about 3.7 to 4.4 days. Home ownership status appears to have a stronger association with physical health than the state of residence in this dataset.\n",
    "\n",
    "This might suggest that socioeconomic factors tied to housing—like financial stability or maybe stress could play a significant role in health outcomes.\n",
    "\"\"\"\n"
   ]
  },
  {
   "cell_type": "markdown",
   "metadata": {},
   "source": [
    "Now, choose and execute an appropriate statistical test. Make sure you describe why you chose the test, the null and alternative hypotheses, and what the result of the test means."
   ]
  },
  {
   "cell_type": "code",
   "execution_count": null,
   "metadata": {},
   "outputs": [],
   "source": [
    "# Your code here (create additional cells as needed)"
   ]
  },
  {
   "cell_type": "markdown",
   "metadata": {},
   "source": [
    "To compare the means of PHYSHLTH between two independent groups — renters and owners — we should use an independent samples t-test. This test is appropriate because:\n",
    "\n",
    "PHYSHLTH is a continuous numeric variable (number of unhealthy days),\n",
    "\n",
    "RENTHOM1 is a binary categorical variable with two independent groups: \"Own\" and \"Rent\",\n",
    "\n",
    "We are comparing the means of PHYSHLTH between these two groups."
   ]
  },
  {
   "cell_type": "markdown",
   "metadata": {},
   "source": [
    "### Hypotheses:\n",
    "Null hypothesis (H₀): There is no difference in the mean number of unhealthy days between renters and owners.\n",
    "\n",
    "Alternative hypothesis (H₁): There is a difference in the mean number of unhealthy days between renters and owners."
   ]
  },
  {
   "cell_type": "code",
   "execution_count": 29,
   "metadata": {},
   "outputs": [
    {
     "name": "stdout",
     "output_type": "stream",
     "text": [
      "T-statistic: -15.4801\n",
      "P-value: 1.0789e-53\n"
     ]
    }
   ],
   "source": [
    "from scipy.stats import ttest_ind\n",
    "\n",
    "# Subset the data\n",
    "owners = df[df[\"RENTHOM1\"] == \"Own\"][\"PHYSHLTH\"]\n",
    "renters = df[df[\"RENTHOM1\"] == \"Rent\"][\"PHYSHLTH\"]\n",
    "\n",
    "# Perform independent t-test\n",
    "t_stat, p_value = ttest_ind(owners, renters, equal_var=False)  # Welch’s t-test (doesn't assume equal variance)\n",
    "\n",
    "# Display the results\n",
    "print(f\"T-statistic: {t_stat:.4f}\")\n",
    "print(f\"P-value: {p_value:.4e}\")\n"
   ]
  },
  {
   "cell_type": "markdown",
   "metadata": {},
   "source": [
    "#### T-statistic: -15.48 — This large (in magnitude) negative value suggests a strong difference between the means of the two groups.\n",
    "\n",
    "#### P-value: 1.0789e-53 — That’s way smaller than any conventional alpha level (e.g., 0.05, 0.01, 0.001).\n",
    "\n",
    "The p-value observes a difference in the number of unhealthy days (between renters and owners) as extreme as the one we found — or more extreme — if there were actually no real difference in the population (i.e., if the null hypothesis were true).\n",
    "\n",
    "\n",
    "\n",
    "\n"
   ]
  },
  {
   "cell_type": "markdown",
   "metadata": {},
   "source": [
    "## 4. Describe the Relationship between Chronic Sickness and Nicotine Use\n",
    "\n",
    "Once again, this will require some preparation before we can run the statistical test. Create a new column `NICOTINE_USE` with 1 representing someone who uses or has used nicotine in some form, and 0 representing someone who hasn't.\n",
    "\n",
    "We define nicotine use as:\n",
    "\n",
    "* Answered `Yes` to the `SMOKE100` question (*Have you smoked at least 100 cigarettes in your entire life?*, page 43), OR\n",
    "* Answered `Every day` or `Some days` to the `USENOW3` question (*Do you currently use chewing tobacco, snuff, or snus every day, some days, or not at all?*, page 46), OR\n",
    "* Answered `Yes` to the `ECIGARET` question (*Have you ever used an e-cigarette or other electronic vaping product, even just one time, in your entire life?*, page 46)\n",
    "\n",
    "If a record matches one or more of the above criteria, `NICOTINE_USE` should be 1. Otherwise, `NICOTINE_USE` should be 0. Go ahead and keep all of the \"Don't know\" or \"Refused\" answers as 0."
   ]
  },
  {
   "cell_type": "code",
   "execution_count": 30,
   "metadata": {},
   "outputs": [
    {
     "name": "stdout",
     "output_type": "stream",
     "text": [
      "0    0.563036\n",
      "1    0.436964\n",
      "Name: NICOTINE_USE, dtype: float64\n"
     ]
    }
   ],
   "source": [
    "# Your code here\n",
    "\n",
    "\n",
    "\n",
    "# Create NICOTINE_USE column based on any of the conditions\n",
    "df[\"NICOTINE_USE\"] = (\n",
    "    ((df[\"SMOKE100\"] == 1) |\n",
    "     (df[\"USENOW3\"].isin([1, 2])) |\n",
    "     (df[\"ECIGARET\"] == 1))\n",
    "    .astype(int)\n",
    ")\n",
    "\n",
    "# Look at the distribution of values\n",
    "print(df[\"NICOTINE_USE\"].value_counts(normalize=True))\n"
   ]
  },
  {
   "cell_type": "markdown",
   "metadata": {},
   "source": [
    "This time, let's treat health status as a categorical variable. We'll say that a \"chronically sick\" person is a person who reports that their physical health was not good for 15 or more out of the past 30 days. (This is a simplification but it will work for this analysis.)\n",
    "\n",
    "In the cell below, create a new column of `df` called `CHRONIC`, which is 0 for records where `PHYSHLTH` is less than 15, and 1 for records where `PHYSHLTH` is 15 or more."
   ]
  },
  {
   "cell_type": "code",
   "execution_count": 31,
   "metadata": {},
   "outputs": [
    {
     "name": "stdout",
     "output_type": "stream",
     "text": [
      "0    28246\n",
      "1     3688\n",
      "Name: CHRONIC, dtype: int64\n"
     ]
    }
   ],
   "source": [
    "# Your code here\n",
    "\n",
    "# Create CHRONIC column: 1 if PHYSHLTH >= 15, else 0\n",
    "df[\"CHRONIC\"] = (df[\"PHYSHLTH\"] >= 15).astype(int)\n",
    "\n",
    "# View the distribution of the newly-created column\n",
    "print(df[\"CHRONIC\"].value_counts())\n"
   ]
  },
  {
   "cell_type": "markdown",
   "metadata": {},
   "source": [
    "Now we can view the crosstabs for these two categorical variables, as well as display their distributions:"
   ]
  },
  {
   "cell_type": "code",
   "execution_count": 32,
   "metadata": {},
   "outputs": [
    {
     "data": {
      "text/html": [
       "<div>\n",
       "<style scoped>\n",
       "    .dataframe tbody tr th:only-of-type {\n",
       "        vertical-align: middle;\n",
       "    }\n",
       "\n",
       "    .dataframe tbody tr th {\n",
       "        vertical-align: top;\n",
       "    }\n",
       "\n",
       "    .dataframe thead th {\n",
       "        text-align: right;\n",
       "    }\n",
       "</style>\n",
       "<table border=\"1\" class=\"dataframe\">\n",
       "  <thead>\n",
       "    <tr style=\"text-align: right;\">\n",
       "      <th>NICOTINE_USE</th>\n",
       "      <th>0</th>\n",
       "      <th>1</th>\n",
       "    </tr>\n",
       "    <tr>\n",
       "      <th>CHRONIC</th>\n",
       "      <th></th>\n",
       "      <th></th>\n",
       "    </tr>\n",
       "  </thead>\n",
       "  <tbody>\n",
       "    <tr>\n",
       "      <th>0</th>\n",
       "      <td>16332</td>\n",
       "      <td>11914</td>\n",
       "    </tr>\n",
       "    <tr>\n",
       "      <th>1</th>\n",
       "      <td>1648</td>\n",
       "      <td>2040</td>\n",
       "    </tr>\n",
       "  </tbody>\n",
       "</table>\n",
       "</div>"
      ],
      "text/plain": [
       "NICOTINE_USE      0      1\n",
       "CHRONIC                   \n",
       "0             16332  11914\n",
       "1              1648   2040"
      ]
     },
     "execution_count": 32,
     "metadata": {},
     "output_type": "execute_result"
    }
   ],
   "source": [
    "# Run this cell without changes\n",
    "contingency_table = pd.crosstab(index=df[\"CHRONIC\"], columns=df[\"NICOTINE_USE\"])\n",
    "contingency_table"
   ]
  },
  {
   "cell_type": "code",
   "execution_count": 33,
   "metadata": {},
   "outputs": [
    {
     "data": {
      "image/png": "[encoded data removed]",
      "text/plain": [
       "<Figure size 432x288 with 1 Axes>"
      ]
     },
     "metadata": {
      "needs_background": "light"
     },
     "output_type": "display_data"
    }
   ],
   "source": [
    "# Run this cell without changes\n",
    "\n",
    "no_nicotine_use = df.loc[df[\"NICOTINE_USE\"] == 0, \"CHRONIC\"]\n",
    "nicotine_use = df.loc[df[\"NICOTINE_USE\"] == 1, \"CHRONIC\"]\n",
    "\n",
    "fig, ax = plt.subplots()\n",
    "\n",
    "ax.hist(\n",
    "    x=[no_nicotine_use, nicotine_use],\n",
    "    label=[\"No Nicotine Use\", \"Nicotine Use\"],\n",
    "    bins=[0,1,2],\n",
    "    align=\"left\"\n",
    ")\n",
    "\n",
    "ax.set_ylabel(\"Count\")\n",
    "ax.set_xticks([0,1])\n",
    "ax.set_xticklabels([\"Not Chronically Sick\", \"Chronically Sick\"])\n",
    "ax.set_title(\"Distribution of Chronic Sickness by Nicotine Use\")\n",
    "\n",
    "ax.legend();"
   ]
  },
  {
   "cell_type": "markdown",
   "metadata": {},
   "source": [
    "Once again, it appears that there is a difference in health outcomes between these categories. In the cell below, select an appropriate statistical test, describe the null and alternative hypotheses, execute the test, and interpret the result."
   ]
  },
  {
   "cell_type": "code",
   "execution_count": null,
   "metadata": {},
   "outputs": [],
   "source": [
    "# Your code here (create additional cells as needed)"
   ]
  },
  {
   "cell_type": "markdown",
   "metadata": {},
   "source": [
    "##### Since we are comparing two categorical variables — NICOTINE_USE (Yes/No) and CHRONIC (Yes/No) — the appropriate statistical test i'd reccomend is a Chi-Square Test of Independence.\n",
    "\n",
    "### Null and Alternative Hypotheses\n",
    "\n",
    "Null Hypothesis (H₀): There is no association between nicotine use and chronic sickness. (They are independent.)\n",
    "\n",
    "Alternative Hypothesis (H₁): There is an association between nicotine use and chronic sickness. (They are not independent.)\n",
    "\n"
   ]
  },
  {
   "cell_type": "code",
   "execution_count": 34,
   "metadata": {},
   "outputs": [
    {
     "name": "stdout",
     "output_type": "stream",
     "text": [
      "Chi-square statistic: 228.2265\n",
      "P-value: 1.4525e-51\n",
      "Degrees of freedom: 1\n"
     ]
    }
   ],
   "source": [
    "from scipy.stats import chi2_contingency\n",
    "\n",
    "# Perform Chi-Square Test\n",
    "chi2, p, dof, expected = chi2_contingency(contingency_table)\n",
    "\n",
    "print(f\"Chi-square statistic: {chi2:.4f}\")\n",
    "print(f\"P-value: {p:.4e}\")\n",
    "print(f\"Degrees of freedom: {dof}\")\n"
   ]
  },
  {
   "cell_type": "markdown",
   "metadata": {},
   "source": [
    "Since the p-value is far smaller than any conventional alpha level (0.05, 0.01, 0.001), we reject the null hypothesis. This provides strong evidence of a statistically significant association between nicotine use and chronic sickness."
   ]
  },
  {
   "cell_type": "markdown",
   "metadata": {},
   "source": [
    "## 5. Choose Your Own Question\n",
    "\n",
    "Now that you have investigated physical health and chronic sickness and their relationships with state, home ownership, and nicotine use, you will conduct a similar investigation with variables of your choosing.\n",
    "\n",
    "Select an independent variable based on looking at the information in the data dictionary, and perform any additional transformations needed to use it in an analysis. Then set up, execute, and interpret a statistical test that addresses the relationship between that independent variable and `PHYSHLTH`.\n",
    "\n",
    "(There is no solution branch for this question, and feel free to move on if you have already spent more than 1.5 hours on this lab.)"
   ]
  },
  {
   "cell_type": "code",
   "execution_count": null,
   "metadata": {},
   "outputs": [],
   "source": [
    "# Your code here (create additional cells as needed)"
   ]
  },
  {
   "cell_type": "markdown",
   "metadata": {},
   "source": [
    "## Conclusion\n",
    "\n",
    "Congratulations, another cumulative lab down! In this lab you practiced reading a data dictionary, performing various data transformations with pandas, and executing statistical tests to address business questions."
   ]
  }
 ],
 "metadata": {
  "kernelspec": {
   "display_name": "Python (learn-env)",
   "language": "python",
   "name": "learn-env"
  },
  "language_info": {
   "codemirror_mode": {
    "name": "ipython",
    "version": 3
   },
   "file_extension": ".py",
   "mimetype": "text/x-python",
   "name": "python",
   "nbconvert_exporter": "python",
   "pygments_lexer": "ipython3",
   "version": "3.8.5"
  }
 },
 "nbformat": 4,
 "nbformat_minor": 4
}
